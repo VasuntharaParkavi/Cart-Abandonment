{
 "cells": [
  {
   "cell_type": "markdown",
   "id": "22744822",
   "metadata": {},
   "source": [
    "# Cart Abandonment - Prediction Analysis - Working Model"
   ]
  },
  {
   "cell_type": "markdown",
   "id": "654c5bf9",
   "metadata": {},
   "source": [
    "### Introduction \n",
    "\n",
    "Shopping cart abandonment refers to visitors who add things to their online shopping basket but leave before finishing the transaction.\n",
    "\n",
    "Online consumers give up buying the visited/selected products that have been added to the cart, which forces e-commerce sites to incur potential losses.Most of the time no strategy is applied to predict customer behavior and actively engage them during their purchase journey.\n",
    "\n",
    "Strategy-With machine learning, predicting whether a consumer would abandon their basket, we may provide specific offers to that customer, allowing them to successfully finish the checkout process before they abandon the cart thereby lowering the abandonment rate."
   ]
  },
  {
   "cell_type": "markdown",
   "id": "1aca8f5c",
   "metadata": {},
   "source": [
    "## About Artefact1:\n",
    "This artefact is a working prototype of the cart abandonment prediction analysis. This artefact provides the prediction data on the cart abandonment behavior by the customer with their browsing details. This artefact allows a customer to engage with and view a working model of the machine learning approach."
   ]
  },
  {
   "cell_type": "markdown",
   "id": "e6c7c531",
   "metadata": {},
   "source": [
    "# Using this artefact, we can predict whether a customer would abandon his cart or not."
   ]
  },
  {
   "cell_type": "code",
   "execution_count": 1,
   "id": "c4d300fa",
   "metadata": {},
   "outputs": [],
   "source": [
    "#*****Predicting the cart abandonment behaviour of the customer - using Logistic Regression Method******"
   ]
  },
  {
   "cell_type": "code",
   "execution_count": 2,
   "id": "3bc31d6b",
   "metadata": {},
   "outputs": [],
   "source": [
    "#Importing Dependencies\n",
    "import pandas as pd\n",
    "import seaborn as sns\n",
    "import numpy as nmp\n",
    "from sklearn.preprocessing import MinMaxScaler\n",
    "from scipy.special import boxcox1p\n",
    "from sklearn.feature_selection import RFE\n",
    "from sklearn.model_selection import train_test_split\n",
    "from sklearn.metrics import accuracy_score\n",
    "from sklearn.linear_model import LogisticRegression\n",
    "from matplotlib import pyplot as plt\n",
    "import matplotlib.pyplot as plt \n",
    "%matplotlib inline"
   ]
  },
  {
   "cell_type": "markdown",
   "id": "ba1cce37",
   "metadata": {},
   "source": [
    "# Dataset\n",
    "Dataset collected from Kaggle on the ecommerce electronic sales data of the customer\n",
    "The dataset contains 4284 columns and 13 features for which the model is built.\n",
    "The data set (.csv format) is downloaded to a local folder, read into the Jupyter notebook and then stored in a Pandas DataFrame."
   ]
  },
  {
   "cell_type": "code",
   "execution_count": 3,
   "id": "2530dea6",
   "metadata": {},
   "outputs": [],
   "source": [
    "SampleRawData=pd.read_csv('data_cart_abandonment.csv')"
   ]
  },
  {
   "cell_type": "code",
   "execution_count": 4,
   "id": "fad8ea36",
   "metadata": {},
   "outputs": [],
   "source": [
    "#****Sample Data View *****#"
   ]
  },
  {
   "cell_type": "code",
   "execution_count": 5,
   "id": "1829b489",
   "metadata": {},
   "outputs": [
    {
     "data": {
      "text/plain": [
       "(4284, 13)"
      ]
     },
     "execution_count": 5,
     "metadata": {},
     "output_type": "execute_result"
    }
   ],
   "source": [
    "SampleRawData.shape"
   ]
  },
  {
   "cell_type": "code",
   "execution_count": 6,
   "id": "464955ee",
   "metadata": {
    "scrolled": true
   },
   "outputs": [
    {
     "data": {
      "text/html": [
       "<div>\n",
       "<style scoped>\n",
       "    .dataframe tbody tr th:only-of-type {\n",
       "        vertical-align: middle;\n",
       "    }\n",
       "\n",
       "    .dataframe tbody tr th {\n",
       "        vertical-align: top;\n",
       "    }\n",
       "\n",
       "    .dataframe thead th {\n",
       "        text-align: right;\n",
       "    }\n",
       "</style>\n",
       "<table border=\"1\" class=\"dataframe\">\n",
       "  <thead>\n",
       "    <tr style=\"text-align: right;\">\n",
       "      <th></th>\n",
       "      <th>ID</th>\n",
       "      <th>Is_Product_Details_viewed</th>\n",
       "      <th>Session_Activity_Count</th>\n",
       "      <th>No_Items_Added_InCart</th>\n",
       "      <th>No_Items_Removed_FromCart</th>\n",
       "      <th>No_Cart_Viewed</th>\n",
       "      <th>No_Checkout_Confirmed</th>\n",
       "      <th>No_Checkout_Initiated</th>\n",
       "      <th>No_Cart_Items_Viewed</th>\n",
       "      <th>No_Customer_Login</th>\n",
       "      <th>No_Page_Viewed</th>\n",
       "      <th>Customer_Segment_Type</th>\n",
       "      <th>Cart_Abandoned</th>\n",
       "    </tr>\n",
       "  </thead>\n",
       "  <tbody>\n",
       "    <tr>\n",
       "      <th>0</th>\n",
       "      <td>Session_ID_0</td>\n",
       "      <td>Yes</td>\n",
       "      <td>4</td>\n",
       "      <td>1.0</td>\n",
       "      <td>0</td>\n",
       "      <td>0.0</td>\n",
       "      <td>0</td>\n",
       "      <td>0</td>\n",
       "      <td>1</td>\n",
       "      <td>0</td>\n",
       "      <td>0</td>\n",
       "      <td>0</td>\n",
       "      <td>1</td>\n",
       "    </tr>\n",
       "    <tr>\n",
       "      <th>1</th>\n",
       "      <td>Session_ID_1</td>\n",
       "      <td>No</td>\n",
       "      <td>38</td>\n",
       "      <td>0.0</td>\n",
       "      <td>0</td>\n",
       "      <td>2.0</td>\n",
       "      <td>0</td>\n",
       "      <td>0</td>\n",
       "      <td>2</td>\n",
       "      <td>0</td>\n",
       "      <td>2</td>\n",
       "      <td>0</td>\n",
       "      <td>1</td>\n",
       "    </tr>\n",
       "    <tr>\n",
       "      <th>2</th>\n",
       "      <td>Session_ID_2</td>\n",
       "      <td>No</td>\n",
       "      <td>8</td>\n",
       "      <td>5.0</td>\n",
       "      <td>0</td>\n",
       "      <td>0.0</td>\n",
       "      <td>1</td>\n",
       "      <td>1</td>\n",
       "      <td>1</td>\n",
       "      <td>0</td>\n",
       "      <td>0</td>\n",
       "      <td>1</td>\n",
       "      <td>0</td>\n",
       "    </tr>\n",
       "    <tr>\n",
       "      <th>3</th>\n",
       "      <td>Session_ID_3</td>\n",
       "      <td>No</td>\n",
       "      <td>6</td>\n",
       "      <td>0.0</td>\n",
       "      <td>0</td>\n",
       "      <td>2.0</td>\n",
       "      <td>0</td>\n",
       "      <td>0</td>\n",
       "      <td>4</td>\n",
       "      <td>0</td>\n",
       "      <td>0</td>\n",
       "      <td>0</td>\n",
       "      <td>1</td>\n",
       "    </tr>\n",
       "    <tr>\n",
       "      <th>4</th>\n",
       "      <td>Session_ID_4</td>\n",
       "      <td>Yes</td>\n",
       "      <td>31</td>\n",
       "      <td>14.0</td>\n",
       "      <td>12</td>\n",
       "      <td>1.0</td>\n",
       "      <td>0</td>\n",
       "      <td>0</td>\n",
       "      <td>4</td>\n",
       "      <td>0</td>\n",
       "      <td>0</td>\n",
       "      <td>2</td>\n",
       "      <td>1</td>\n",
       "    </tr>\n",
       "  </tbody>\n",
       "</table>\n",
       "</div>"
      ],
      "text/plain": [
       "             ID Is_Product_Details_viewed  Session_Activity_Count  \\\n",
       "0  Session_ID_0                       Yes                       4   \n",
       "1  Session_ID_1                        No                      38   \n",
       "2  Session_ID_2                        No                       8   \n",
       "3  Session_ID_3                        No                       6   \n",
       "4  Session_ID_4                       Yes                      31   \n",
       "\n",
       "   No_Items_Added_InCart  No_Items_Removed_FromCart  No_Cart_Viewed  \\\n",
       "0                    1.0                          0             0.0   \n",
       "1                    0.0                          0             2.0   \n",
       "2                    5.0                          0             0.0   \n",
       "3                    0.0                          0             2.0   \n",
       "4                   14.0                         12             1.0   \n",
       "\n",
       "   No_Checkout_Confirmed  No_Checkout_Initiated   No_Cart_Items_Viewed  \\\n",
       "0                      0                       0                     1   \n",
       "1                      0                       0                     2   \n",
       "2                      1                       1                     1   \n",
       "3                      0                       0                     4   \n",
       "4                      0                       0                     4   \n",
       "\n",
       "   No_Customer_Login  No_Page_Viewed  Customer_Segment_Type  Cart_Abandoned  \n",
       "0                  0               0                      0               1  \n",
       "1                  0               2                      0               1  \n",
       "2                  0               0                      1               0  \n",
       "3                  0               0                      0               1  \n",
       "4                  0               0                      2               1  "
      ]
     },
     "execution_count": 6,
     "metadata": {},
     "output_type": "execute_result"
    }
   ],
   "source": [
    "SampleRawData.head()"
   ]
  },
  {
   "cell_type": "markdown",
   "id": "23c9184a",
   "metadata": {},
   "source": [
    "# Data Analysis\n",
    "Following data collection, a variety of processes are used to investigate the information. The main purpose of this step is to improve your understanding of the data structure, perform preliminary preprocessing, clean the data and inconsistencies in the data(missing values).The main purpose of this step is to improve your understanding of the data structure, perform preliminary preprocessing, clean the data and inconsistencies in the data(missing values) Data filtering is a technique for removing any unwanted data"
   ]
  },
  {
   "cell_type": "code",
   "execution_count": 7,
   "id": "567c57c3",
   "metadata": {},
   "outputs": [],
   "source": [
    "SampleRawData.Cart_Abandoned=pd.Categorical(SampleRawData.Cart_Abandoned)"
   ]
  },
  {
   "cell_type": "code",
   "execution_count": 8,
   "id": "e3dbcfe2",
   "metadata": {},
   "outputs": [
    {
     "data": {
      "text/plain": [
       "CategoricalDtype(categories=[0, 1], ordered=False)"
      ]
     },
     "execution_count": 8,
     "metadata": {},
     "output_type": "execute_result"
    }
   ],
   "source": [
    "SampleRawData.Cart_Abandoned.dtypes"
   ]
  },
  {
   "cell_type": "code",
   "execution_count": 9,
   "id": "d469969f",
   "metadata": {},
   "outputs": [
    {
     "data": {
      "text/plain": [
       "CategoricalDtype(categories=[0, 1, 2], ordered=False)"
      ]
     },
     "execution_count": 9,
     "metadata": {},
     "output_type": "execute_result"
    }
   ],
   "source": [
    "SampleRawData.Customer_Segment_Type=pd.Categorical(SampleRawData.Customer_Segment_Type)\n",
    "SampleRawData.Customer_Segment_Type.dtypes"
   ]
  },
  {
   "cell_type": "code",
   "execution_count": 10,
   "id": "bd65f4a1",
   "metadata": {},
   "outputs": [
    {
     "data": {
      "text/plain": [
       "ID                             object\n",
       "Is_Product_Details_viewed      object\n",
       "Session_Activity_Count          int64\n",
       "No_Items_Added_InCart         float64\n",
       "No_Items_Removed_FromCart       int64\n",
       "No_Cart_Viewed                float64\n",
       "No_Checkout_Confirmed           int64\n",
       "No_Checkout_Initiated           int64\n",
       "No_Cart_Items_Viewed            int64\n",
       "No_Customer_Login               int64\n",
       "No_Page_Viewed                  int64\n",
       "Customer_Segment_Type        category\n",
       "Cart_Abandoned               category\n",
       "dtype: object"
      ]
     },
     "execution_count": 10,
     "metadata": {},
     "output_type": "execute_result"
    }
   ],
   "source": [
    "SampleRawData.dtypes"
   ]
  },
  {
   "cell_type": "markdown",
   "id": "c4b85965",
   "metadata": {},
   "source": [
    "#### Data Cleaning"
   ]
  },
  {
   "cell_type": "code",
   "execution_count": 11,
   "id": "848ea0a4",
   "metadata": {},
   "outputs": [],
   "source": [
    "SampleData1 = SampleRawData.copy()"
   ]
  },
  {
   "cell_type": "code",
   "execution_count": 12,
   "id": "e9d117b8",
   "metadata": {},
   "outputs": [],
   "source": [
    "#****Checking on the nulls****#"
   ]
  },
  {
   "cell_type": "code",
   "execution_count": 13,
   "id": "1ba6a864",
   "metadata": {},
   "outputs": [
    {
     "data": {
      "text/plain": [
       "ID                           0\n",
       "Is_Product_Details_viewed    0\n",
       "Session_Activity_Count       0\n",
       "No_Items_Added_InCart        9\n",
       "No_Items_Removed_FromCart    0\n",
       "No_Cart_Viewed               9\n",
       "No_Checkout_Confirmed        0\n",
       "No_Checkout_Initiated        0\n",
       "No_Cart_Items_Viewed         0\n",
       "No_Customer_Login            0\n",
       "No_Page_Viewed               0\n",
       "Customer_Segment_Type        0\n",
       "Cart_Abandoned               0\n",
       "dtype: int64"
      ]
     },
     "execution_count": 13,
     "metadata": {},
     "output_type": "execute_result"
    }
   ],
   "source": [
    "SampleData1.isna().sum()"
   ]
  },
  {
   "cell_type": "code",
   "execution_count": 14,
   "id": "2fcdcb69",
   "metadata": {},
   "outputs": [],
   "source": [
    "#**********Dropping Nulls***********#"
   ]
  },
  {
   "cell_type": "code",
   "execution_count": 15,
   "id": "05243409",
   "metadata": {},
   "outputs": [],
   "source": [
    "SampleData=SampleData1.dropna()"
   ]
  },
  {
   "cell_type": "code",
   "execution_count": 16,
   "id": "b6bd18eb",
   "metadata": {},
   "outputs": [
    {
     "data": {
      "text/plain": [
       "ID                           0\n",
       "Is_Product_Details_viewed    0\n",
       "Session_Activity_Count       0\n",
       "No_Items_Added_InCart        0\n",
       "No_Items_Removed_FromCart    0\n",
       "No_Cart_Viewed               0\n",
       "No_Checkout_Confirmed        0\n",
       "No_Checkout_Initiated        0\n",
       "No_Cart_Items_Viewed         0\n",
       "No_Customer_Login            0\n",
       "No_Page_Viewed               0\n",
       "Customer_Segment_Type        0\n",
       "Cart_Abandoned               0\n",
       "dtype: int64"
      ]
     },
     "execution_count": 16,
     "metadata": {},
     "output_type": "execute_result"
    }
   ],
   "source": [
    "SampleData.isna().sum()"
   ]
  },
  {
   "cell_type": "markdown",
   "id": "a61f137e",
   "metadata": {},
   "source": [
    "# Data Visualization\n",
    "Using visualisation to evaluate data and communicate results in a clear and understandable manner with piecharts and bar graphs\n",
    "Graph 1 : Percentage of Customers abandoned the cart in the dataset\n",
    "Graph 2 : Percentage of Loyal,Target and Untargeted Customers\n",
    "Graph 3 : Abandonment based on detail views"
   ]
  },
  {
   "cell_type": "code",
   "execution_count": 17,
   "id": "403006a6",
   "metadata": {},
   "outputs": [
    {
     "data": {
      "image/png": "[encoded data removed]",
      "text/plain": [
       "<Figure size 432x288 with 1 Axes>"
      ]
     },
     "metadata": {},
     "output_type": "display_data"
    }
   ],
   "source": [
    "counts = SampleData['Cart_Abandoned'].value_counts()\n",
    "counts\n",
    "fig, ax = plt.subplots()\n",
    "ax.pie(counts, autopct='%1.1f%%')\n",
    "ax.legend(labels=['Abandoned the Cart', 'Purchased the Product'], title='Abandonment/Purchase percentage of the Customer',loc='lower right')\n",
    "ax.set_title(\"Percentage of Customers abandoned the cart\")\n",
    "plt.show()"
   ]
  },
  {
   "cell_type": "code",
   "execution_count": 18,
   "id": "df36a951",
   "metadata": {},
   "outputs": [
    {
     "data": {
      "image/png": "[encoded data removed]",
      "text/plain": [
       "<Figure size 432x288 with 1 Axes>"
      ]
     },
     "metadata": {},
     "output_type": "display_data"
    }
   ],
   "source": [
    "counts = SampleData['Customer_Segment_Type'].value_counts()\n",
    "counts\n",
    "fig, ax = plt.subplots()\n",
    "ax.pie(counts, autopct='%1.1f%%')\n",
    "ax.legend(labels=['Target Customer', 'Loyal Customer','UnTargeted Customer'], title='Customer Segement Type',loc='lower right')\n",
    "ax.set_title(\"Customer Segement Type\")\n",
    "plt.show()"
   ]
  },
  {
   "cell_type": "code",
   "execution_count": 19,
   "id": "507a5a91",
   "metadata": {},
   "outputs": [
    {
     "data": {
      "text/plain": [
       "<AxesSubplot:xlabel='Is_Product_Details_viewed', ylabel='count'>"
      ]
     },
     "execution_count": 19,
     "metadata": {},
     "output_type": "execute_result"
    },
    {
     "data": {
      "image/png": "[encoded data removed]",
      "text/plain": [
       "<Figure size 432x288 with 1 Axes>"
      ]
     },
     "metadata": {
      "needs_background": "light"
     },
     "output_type": "display_data"
    }
   ],
   "source": [
    "sns.countplot(x=SampleData.Is_Product_Details_viewed,hue=SampleData.Cart_Abandoned)"
   ]
  },
  {
   "cell_type": "markdown",
   "id": "3f1f973c",
   "metadata": {},
   "source": [
    "# Feature Engineering\n",
    "One of the most significant activities in data analysis is feature engineering, which is the process of designing suitable features for machine learning models.To rescale features between 0 and 1, min-max scaling is applied."
   ]
  },
  {
   "cell_type": "code",
   "execution_count": 20,
   "id": "20be593d",
   "metadata": {},
   "outputs": [],
   "source": [
    "num=SampleData.select_dtypes(include=[\"int64\"])"
   ]
  },
  {
   "cell_type": "code",
   "execution_count": 21,
   "id": "1d8a0214",
   "metadata": {},
   "outputs": [],
   "source": [
    "Categ=SampleData.select_dtypes(include=[\"object\",\"category\"]).drop([\"ID\"],axis=1)"
   ]
  },
  {
   "cell_type": "code",
   "execution_count": 22,
   "id": "0a5e86c0",
   "metadata": {},
   "outputs": [],
   "source": [
    "Categ.Is_Product_Details_viewed.replace({\"Yes\":1,\"No\":0},inplace=True)\n",
    "Categ.Is_Product_Details_viewed=pd.Categorical(Categ.Is_Product_Details_viewed)"
   ]
  },
  {
   "cell_type": "code",
   "execution_count": 23,
   "id": "65797d70",
   "metadata": {},
   "outputs": [
    {
     "data": {
      "text/plain": [
       "<bound method NDFrame.describe of      Is_Product_Details_viewed Customer_Segment_Type Cart_Abandoned\n",
       "0                            1                     0              1\n",
       "1                            0                     0              1\n",
       "2                            0                     1              0\n",
       "3                            0                     0              1\n",
       "4                            1                     2              1\n",
       "...                        ...                   ...            ...\n",
       "4279                         1                     2              1\n",
       "4280                         0                     0              1\n",
       "4281                         0                     0              1\n",
       "4282                         0                     1              1\n",
       "4283                         0                     1              1\n",
       "\n",
       "[4271 rows x 3 columns]>"
      ]
     },
     "execution_count": 23,
     "metadata": {},
     "output_type": "execute_result"
    }
   ],
   "source": [
    "Categ.describe"
   ]
  },
  {
   "cell_type": "code",
   "execution_count": 24,
   "id": "ad346df3",
   "metadata": {},
   "outputs": [],
   "source": [
    "min_max_scaler = MinMaxScaler()\n",
    "x_scaled = min_max_scaler.fit_transform(num)\n",
    "#x_scaled.head(3)"
   ]
  },
  {
   "cell_type": "code",
   "execution_count": 25,
   "id": "080bb106",
   "metadata": {},
   "outputs": [
    {
     "data": {
      "text/html": [
       "<div>\n",
       "<style scoped>\n",
       "    .dataframe tbody tr th:only-of-type {\n",
       "        vertical-align: middle;\n",
       "    }\n",
       "\n",
       "    .dataframe tbody tr th {\n",
       "        vertical-align: top;\n",
       "    }\n",
       "\n",
       "    .dataframe thead th {\n",
       "        text-align: right;\n",
       "    }\n",
       "</style>\n",
       "<table border=\"1\" class=\"dataframe\">\n",
       "  <thead>\n",
       "    <tr style=\"text-align: right;\">\n",
       "      <th></th>\n",
       "      <th>Session_Activity_Count</th>\n",
       "      <th>No_Items_Removed_FromCart</th>\n",
       "      <th>No_Checkout_Confirmed</th>\n",
       "      <th>No_Checkout_Initiated</th>\n",
       "      <th>No_Cart_Items_Viewed</th>\n",
       "      <th>No_Customer_Login</th>\n",
       "      <th>No_Page_Viewed</th>\n",
       "    </tr>\n",
       "  </thead>\n",
       "  <tbody>\n",
       "    <tr>\n",
       "      <th>0</th>\n",
       "      <td>0.009174</td>\n",
       "      <td>0.0</td>\n",
       "      <td>0.000000</td>\n",
       "      <td>0.000000</td>\n",
       "      <td>0.003906</td>\n",
       "      <td>0.0</td>\n",
       "      <td>0.000000</td>\n",
       "    </tr>\n",
       "    <tr>\n",
       "      <th>1</th>\n",
       "      <td>0.087156</td>\n",
       "      <td>0.0</td>\n",
       "      <td>0.000000</td>\n",
       "      <td>0.000000</td>\n",
       "      <td>0.007812</td>\n",
       "      <td>0.0</td>\n",
       "      <td>0.057143</td>\n",
       "    </tr>\n",
       "    <tr>\n",
       "      <th>2</th>\n",
       "      <td>0.018349</td>\n",
       "      <td>0.0</td>\n",
       "      <td>0.090909</td>\n",
       "      <td>0.071429</td>\n",
       "      <td>0.003906</td>\n",
       "      <td>0.0</td>\n",
       "      <td>0.000000</td>\n",
       "    </tr>\n",
       "  </tbody>\n",
       "</table>\n",
       "</div>"
      ],
      "text/plain": [
       "   Session_Activity_Count  No_Items_Removed_FromCart  No_Checkout_Confirmed  \\\n",
       "0                0.009174                        0.0               0.000000   \n",
       "1                0.087156                        0.0               0.000000   \n",
       "2                0.018349                        0.0               0.090909   \n",
       "\n",
       "   No_Checkout_Initiated   No_Cart_Items_Viewed  No_Customer_Login  \\\n",
       "0                0.000000              0.003906                0.0   \n",
       "1                0.000000              0.007812                0.0   \n",
       "2                0.071429              0.003906                0.0   \n",
       "\n",
       "   No_Page_Viewed  \n",
       "0        0.000000  \n",
       "1        0.057143  \n",
       "2        0.000000  "
      ]
     },
     "execution_count": 25,
     "metadata": {},
     "output_type": "execute_result"
    }
   ],
   "source": [
    "ScaledData = pd.DataFrame(x_scaled,columns=num.columns)\n",
    "ScaledData.head(3)"
   ]
  },
  {
   "cell_type": "code",
   "execution_count": 26,
   "id": "7eb5d8d0",
   "metadata": {},
   "outputs": [
    {
     "data": {
      "text/html": [
       "<div>\n",
       "<style scoped>\n",
       "    .dataframe tbody tr th:only-of-type {\n",
       "        vertical-align: middle;\n",
       "    }\n",
       "\n",
       "    .dataframe tbody tr th {\n",
       "        vertical-align: top;\n",
       "    }\n",
       "\n",
       "    .dataframe thead th {\n",
       "        text-align: right;\n",
       "    }\n",
       "</style>\n",
       "<table border=\"1\" class=\"dataframe\">\n",
       "  <thead>\n",
       "    <tr style=\"text-align: right;\">\n",
       "      <th></th>\n",
       "      <th>Session_Activity_Count</th>\n",
       "      <th>No_Items_Removed_FromCart</th>\n",
       "      <th>No_Checkout_Confirmed</th>\n",
       "      <th>No_Checkout_Initiated</th>\n",
       "      <th>No_Cart_Items_Viewed</th>\n",
       "      <th>No_Customer_Login</th>\n",
       "      <th>No_Page_Viewed</th>\n",
       "      <th>Is_Product_Details_viewed</th>\n",
       "      <th>Customer_Segment_Type</th>\n",
       "      <th>Cart_Abandoned</th>\n",
       "    </tr>\n",
       "  </thead>\n",
       "  <tbody>\n",
       "    <tr>\n",
       "      <th>0</th>\n",
       "      <td>0.009174</td>\n",
       "      <td>0.00</td>\n",
       "      <td>0.000000</td>\n",
       "      <td>0.000000</td>\n",
       "      <td>0.003906</td>\n",
       "      <td>0.0</td>\n",
       "      <td>0.000000</td>\n",
       "      <td>1</td>\n",
       "      <td>0</td>\n",
       "      <td>1</td>\n",
       "    </tr>\n",
       "    <tr>\n",
       "      <th>1</th>\n",
       "      <td>0.087156</td>\n",
       "      <td>0.00</td>\n",
       "      <td>0.000000</td>\n",
       "      <td>0.000000</td>\n",
       "      <td>0.007812</td>\n",
       "      <td>0.0</td>\n",
       "      <td>0.057143</td>\n",
       "      <td>0</td>\n",
       "      <td>0</td>\n",
       "      <td>1</td>\n",
       "    </tr>\n",
       "    <tr>\n",
       "      <th>2</th>\n",
       "      <td>0.018349</td>\n",
       "      <td>0.00</td>\n",
       "      <td>0.090909</td>\n",
       "      <td>0.071429</td>\n",
       "      <td>0.003906</td>\n",
       "      <td>0.0</td>\n",
       "      <td>0.000000</td>\n",
       "      <td>0</td>\n",
       "      <td>1</td>\n",
       "      <td>0</td>\n",
       "    </tr>\n",
       "    <tr>\n",
       "      <th>3</th>\n",
       "      <td>0.013761</td>\n",
       "      <td>0.00</td>\n",
       "      <td>0.000000</td>\n",
       "      <td>0.000000</td>\n",
       "      <td>0.015625</td>\n",
       "      <td>0.0</td>\n",
       "      <td>0.000000</td>\n",
       "      <td>0</td>\n",
       "      <td>0</td>\n",
       "      <td>1</td>\n",
       "    </tr>\n",
       "    <tr>\n",
       "      <th>4</th>\n",
       "      <td>0.071101</td>\n",
       "      <td>0.24</td>\n",
       "      <td>0.000000</td>\n",
       "      <td>0.000000</td>\n",
       "      <td>0.015625</td>\n",
       "      <td>0.0</td>\n",
       "      <td>0.000000</td>\n",
       "      <td>1</td>\n",
       "      <td>2</td>\n",
       "      <td>1</td>\n",
       "    </tr>\n",
       "  </tbody>\n",
       "</table>\n",
       "</div>"
      ],
      "text/plain": [
       "   Session_Activity_Count  No_Items_Removed_FromCart  No_Checkout_Confirmed  \\\n",
       "0                0.009174                       0.00               0.000000   \n",
       "1                0.087156                       0.00               0.000000   \n",
       "2                0.018349                       0.00               0.090909   \n",
       "3                0.013761                       0.00               0.000000   \n",
       "4                0.071101                       0.24               0.000000   \n",
       "\n",
       "   No_Checkout_Initiated   No_Cart_Items_Viewed  No_Customer_Login  \\\n",
       "0                0.000000              0.003906                0.0   \n",
       "1                0.000000              0.007812                0.0   \n",
       "2                0.071429              0.003906                0.0   \n",
       "3                0.000000              0.015625                0.0   \n",
       "4                0.000000              0.015625                0.0   \n",
       "\n",
       "   No_Page_Viewed Is_Product_Details_viewed Customer_Segment_Type  \\\n",
       "0        0.000000                         1                     0   \n",
       "1        0.057143                         0                     0   \n",
       "2        0.000000                         0                     1   \n",
       "3        0.000000                         0                     0   \n",
       "4        0.000000                         1                     2   \n",
       "\n",
       "  Cart_Abandoned  \n",
       "0              1  \n",
       "1              1  \n",
       "2              0  \n",
       "3              1  \n",
       "4              1  "
      ]
     },
     "execution_count": 26,
     "metadata": {},
     "output_type": "execute_result"
    }
   ],
   "source": [
    "ScaledData1=ScaledData.join(Categ)\n",
    "ScaledData1.head()"
   ]
  },
  {
   "cell_type": "code",
   "execution_count": 27,
   "id": "db5e4968",
   "metadata": {},
   "outputs": [],
   "source": [
    "#ScaledData1.Is_Product_Details_viewed.replace({\"Yes\":1,\"No\":0},inplace=True)\n",
    "#ScaledData1.Is_Product_Details_viewed=pd.Categorical(ScaledData1.Is_Product_Details_viewed)"
   ]
  },
  {
   "cell_type": "code",
   "execution_count": 28,
   "id": "514a29f4",
   "metadata": {},
   "outputs": [],
   "source": [
    "ScaledData2=ScaledData1.dropna()"
   ]
  },
  {
   "cell_type": "markdown",
   "id": "7c19d2a8",
   "metadata": {},
   "source": [
    "# Train and Test Data\n",
    "The train test split technique is used for classification and regression problems to test the machine learning algorithms. \n",
    "The data is split into 80% training data and 20% testing data."
   ]
  },
  {
   "cell_type": "code",
   "execution_count": 29,
   "id": "9a0dc9f0",
   "metadata": {},
   "outputs": [],
   "source": [
    "Y = ScaledData2['Cart_Abandoned']\n",
    "X = ScaledData2.drop('Cart_Abandoned',axis='columns')\n",
    "\n",
    "from sklearn.model_selection import train_test_split\n",
    "X_train, X_test, Y_train, Y_test = train_test_split(X,Y,test_size=0.2,random_state=5)"
   ]
  },
  {
   "cell_type": "code",
   "execution_count": 30,
   "id": "552091c3",
   "metadata": {},
   "outputs": [
    {
     "data": {
      "text/plain": [
       "(3406, 9)"
      ]
     },
     "execution_count": 30,
     "metadata": {},
     "output_type": "execute_result"
    }
   ],
   "source": [
    "X_train.shape"
   ]
  },
  {
   "cell_type": "code",
   "execution_count": 31,
   "id": "7f91bfdd",
   "metadata": {},
   "outputs": [
    {
     "data": {
      "text/plain": [
       "(852, 9)"
      ]
     },
     "execution_count": 31,
     "metadata": {},
     "output_type": "execute_result"
    }
   ],
   "source": [
    "X_test.shape"
   ]
  },
  {
   "cell_type": "markdown",
   "id": "789fabd9",
   "metadata": {},
   "source": [
    "# Prediction Model\n",
    "Applied the Logistic Regression as the initial experimetation."
   ]
  },
  {
   "cell_type": "code",
   "execution_count": 32,
   "id": "63c8904c",
   "metadata": {},
   "outputs": [
    {
     "name": "stdout",
     "output_type": "stream",
     "text": [
      "LOGISTIC REGRESSION\n",
      "===================\n",
      "Accuracy Score is 0.857981220657277\n",
      "-----\n"
     ]
    }
   ],
   "source": [
    "\n",
    "logmodel = LogisticRegression()\n",
    "logmodel.fit(X_train,Y_train)\n",
    "logmodel_accuracy_score=logmodel.score(X_test,Y_test)\n",
    "\n",
    "print ('LOGISTIC REGRESSION')\n",
    "print ('===================')\n",
    "print ('Accuracy Score is', logmodel_accuracy_score)\n",
    "print ('-----')"
   ]
  },
  {
   "cell_type": "code",
   "execution_count": 33,
   "id": "75f2401b",
   "metadata": {},
   "outputs": [],
   "source": [
    "#With the Logistic Regression Model we are getting the data accuracy as 0.85 "
   ]
  },
  {
   "cell_type": "code",
   "execution_count": 34,
   "id": "375a8125",
   "metadata": {},
   "outputs": [],
   "source": [
    "#Prediction Results column --> 0 Denotes 'Going to Purchase' 1 Denotes 'Going to Abandon'"
   ]
  },
  {
   "cell_type": "code",
   "execution_count": 35,
   "id": "c7314b92",
   "metadata": {},
   "outputs": [
    {
     "data": {
      "text/plain": [
       "<bound method NDFrame.head of 2280    0\n",
       "2781    1\n",
       "752     1\n",
       "2820    1\n",
       "1869    1\n",
       "       ..\n",
       "3059    1\n",
       "1738    1\n",
       "4092    1\n",
       "2267    0\n",
       "2928    0\n",
       "Name: Cart_Abandoned, Length: 3406, dtype: category\n",
       "Categories (2, int64): [0, 1]>"
      ]
     },
     "execution_count": 35,
     "metadata": {},
     "output_type": "execute_result"
    }
   ],
   "source": [
    "Y_train.head"
   ]
  },
  {
   "cell_type": "markdown",
   "id": "fcad2006",
   "metadata": {},
   "source": [
    "# Future Enhancements\n",
    "\n",
    "Enhancement 1: Use of other algorithms and compare the accuracy score\n",
    "Enhancement 2: Applying the mean for the null instead of dropping.\n",
    "Enhacement  3: Tuning the feature engineering part to derive more accuracy.\n",
    "Enhancement 4: Applying Performace metrics to determine the efficiency of the model."
   ]
  }
 ],
 "metadata": {
  "kernelspec": {
   "display_name": "Python 3 (ipykernel)",
   "language": "python",
   "name": "python3"
  },
  "language_info": {
   "codemirror_mode": {
    "name": "ipython",
    "version": 3
   },
   "file_extension": ".py",
   "mimetype": "text/x-python",
   "name": "python",
   "nbconvert_exporter": "python",
   "pygments_lexer": "ipython3",
   "version": "3.9.7"
  }
 },
 "nbformat": 4,
 "nbformat_minor": 5
}
